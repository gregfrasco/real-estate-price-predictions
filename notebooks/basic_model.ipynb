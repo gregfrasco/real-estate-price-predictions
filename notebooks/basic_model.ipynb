{
 "cells": [
  {
   "cell_type": "markdown",
   "metadata": {},
   "source": [
    "## Additional Prep Work TODOs\n",
    "\n",
    "* Add select categorical variables (being prepared by team)"
   ]
  },
  {
   "cell_type": "markdown",
   "metadata": {},
   "source": [
    "## Working with the Models\n",
    "\n",
    "Inputs:\n",
    "* SOLDPRICE - float\n",
    "* DOM - int\n",
    "* BEDS - int\n",
    "* BATHS - float\n",
    "* SQFT - int\n",
    "* AGE - int\n",
    "* GARAGE - int\n",
    "\n",
    "Out:\n",
    "* FLIPPABLE - bool"
   ]
  },
  {
   "cell_type": "code",
   "execution_count": 170,
   "metadata": {},
   "outputs": [],
   "source": [
    "import numpy as np\n",
    "import pandas as pd\n",
    "import matplotlib.pyplot as plt\n",
    "from sklearn import linear_model\n",
    "from sklearn.metrics import confusion_matrix, classification_report\n",
    "from sklearn.model_selection import train_test_split\n",
    "import seaborn as sns\n",
    "import joblib\n",
    "from imblearn.over_sampling import SMOTE"
   ]
  },
  {
   "cell_type": "code",
   "execution_count": 171,
   "metadata": {},
   "outputs": [],
   "source": [
    "df = pd.read_csv('./outputs/merged_test_and_control_data.csv') "
   ]
  },
  {
   "cell_type": "code",
   "execution_count": 172,
   "metadata": {},
   "outputs": [
    {
     "data": {
      "text/plain": [
       "(133375, 10)"
      ]
     },
     "execution_count": 172,
     "metadata": {},
     "output_type": "execute_result"
    }
   ],
   "source": [
    "df.shape"
   ]
  },
  {
   "cell_type": "code",
   "execution_count": 173,
   "metadata": {},
   "outputs": [
    {
     "data": {
      "text/html": [
       "<div>\n",
       "<style scoped>\n",
       "    .dataframe tbody tr th:only-of-type {\n",
       "        vertical-align: middle;\n",
       "    }\n",
       "\n",
       "    .dataframe tbody tr th {\n",
       "        vertical-align: top;\n",
       "    }\n",
       "\n",
       "    .dataframe thead th {\n",
       "        text-align: right;\n",
       "    }\n",
       "</style>\n",
       "<table border=\"1\" class=\"dataframe\">\n",
       "  <thead>\n",
       "    <tr style=\"text-align: right;\">\n",
       "      <th></th>\n",
       "      <th>Unnamed: 0</th>\n",
       "      <th>FLIPPABLE</th>\n",
       "      <th>MLSNUM</th>\n",
       "      <th>SOLDPRICE</th>\n",
       "      <th>DOM</th>\n",
       "      <th>BEDS</th>\n",
       "      <th>BATHS</th>\n",
       "      <th>SQFT</th>\n",
       "      <th>AGE</th>\n",
       "      <th>GARAGE</th>\n",
       "    </tr>\n",
       "  </thead>\n",
       "  <tbody>\n",
       "    <tr>\n",
       "      <th>0</th>\n",
       "      <td>0</td>\n",
       "      <td>True</td>\n",
       "      <td>71425748</td>\n",
       "      <td>50000.0</td>\n",
       "      <td>1077</td>\n",
       "      <td>4</td>\n",
       "      <td>2.0</td>\n",
       "      <td>1984</td>\n",
       "      <td>95</td>\n",
       "      <td>0</td>\n",
       "    </tr>\n",
       "    <tr>\n",
       "      <th>1</th>\n",
       "      <td>1</td>\n",
       "      <td>True</td>\n",
       "      <td>71477127</td>\n",
       "      <td>125000.0</td>\n",
       "      <td>724</td>\n",
       "      <td>4</td>\n",
       "      <td>2.0</td>\n",
       "      <td>2333</td>\n",
       "      <td>67</td>\n",
       "      <td>0</td>\n",
       "    </tr>\n",
       "    <tr>\n",
       "      <th>2</th>\n",
       "      <td>2</td>\n",
       "      <td>True</td>\n",
       "      <td>71478495</td>\n",
       "      <td>720500.0</td>\n",
       "      <td>828</td>\n",
       "      <td>4</td>\n",
       "      <td>3.5</td>\n",
       "      <td>4196</td>\n",
       "      <td>20</td>\n",
       "      <td>3</td>\n",
       "    </tr>\n",
       "    <tr>\n",
       "      <th>3</th>\n",
       "      <td>3</td>\n",
       "      <td>True</td>\n",
       "      <td>71485790</td>\n",
       "      <td>160000.0</td>\n",
       "      <td>1140</td>\n",
       "      <td>3</td>\n",
       "      <td>1.5</td>\n",
       "      <td>1350</td>\n",
       "      <td>58</td>\n",
       "      <td>0</td>\n",
       "    </tr>\n",
       "    <tr>\n",
       "      <th>4</th>\n",
       "      <td>4</td>\n",
       "      <td>True</td>\n",
       "      <td>71614526</td>\n",
       "      <td>335000.0</td>\n",
       "      <td>809</td>\n",
       "      <td>3</td>\n",
       "      <td>2.0</td>\n",
       "      <td>1270</td>\n",
       "      <td>38</td>\n",
       "      <td>1</td>\n",
       "    </tr>\n",
       "  </tbody>\n",
       "</table>\n",
       "</div>"
      ],
      "text/plain": [
       "   Unnamed: 0  FLIPPABLE    MLSNUM  SOLDPRICE   DOM  BEDS  BATHS  SQFT  AGE  \\\n",
       "0           0       True  71425748    50000.0  1077     4    2.0  1984   95   \n",
       "1           1       True  71477127   125000.0   724     4    2.0  2333   67   \n",
       "2           2       True  71478495   720500.0   828     4    3.5  4196   20   \n",
       "3           3       True  71485790   160000.0  1140     3    1.5  1350   58   \n",
       "4           4       True  71614526   335000.0   809     3    2.0  1270   38   \n",
       "\n",
       "   GARAGE  \n",
       "0       0  \n",
       "1       0  \n",
       "2       3  \n",
       "3       0  \n",
       "4       1  "
      ]
     },
     "execution_count": 173,
     "metadata": {},
     "output_type": "execute_result"
    }
   ],
   "source": [
    "df.head()"
   ]
  },
  {
   "cell_type": "code",
   "execution_count": 174,
   "metadata": {},
   "outputs": [],
   "source": [
    "df = df.drop(df.columns[0],axis=1)"
   ]
  },
  {
   "cell_type": "code",
   "execution_count": 175,
   "metadata": {},
   "outputs": [],
   "source": [
    "# mix it up randomly\n",
    "df = df.sample(frac=1)"
   ]
  },
  {
   "cell_type": "code",
   "execution_count": 176,
   "metadata": {},
   "outputs": [
    {
     "data": {
      "text/html": [
       "<div>\n",
       "<style scoped>\n",
       "    .dataframe tbody tr th:only-of-type {\n",
       "        vertical-align: middle;\n",
       "    }\n",
       "\n",
       "    .dataframe tbody tr th {\n",
       "        vertical-align: top;\n",
       "    }\n",
       "\n",
       "    .dataframe thead th {\n",
       "        text-align: right;\n",
       "    }\n",
       "</style>\n",
       "<table border=\"1\" class=\"dataframe\">\n",
       "  <thead>\n",
       "    <tr style=\"text-align: right;\">\n",
       "      <th></th>\n",
       "      <th>FLIPPABLE</th>\n",
       "      <th>MLSNUM</th>\n",
       "      <th>SOLDPRICE</th>\n",
       "      <th>DOM</th>\n",
       "      <th>BEDS</th>\n",
       "      <th>BATHS</th>\n",
       "      <th>SQFT</th>\n",
       "      <th>AGE</th>\n",
       "      <th>GARAGE</th>\n",
       "    </tr>\n",
       "  </thead>\n",
       "  <tbody>\n",
       "    <tr>\n",
       "      <th>64087</th>\n",
       "      <td>False</td>\n",
       "      <td>72005990</td>\n",
       "      <td>175000.0</td>\n",
       "      <td>57</td>\n",
       "      <td>2</td>\n",
       "      <td>1.0</td>\n",
       "      <td>1056</td>\n",
       "      <td>58</td>\n",
       "      <td>0</td>\n",
       "    </tr>\n",
       "    <tr>\n",
       "      <th>16124</th>\n",
       "      <td>False</td>\n",
       "      <td>71980752</td>\n",
       "      <td>840000.0</td>\n",
       "      <td>50</td>\n",
       "      <td>5</td>\n",
       "      <td>2.5</td>\n",
       "      <td>2300</td>\n",
       "      <td>113</td>\n",
       "      <td>0</td>\n",
       "    </tr>\n",
       "    <tr>\n",
       "      <th>25490</th>\n",
       "      <td>False</td>\n",
       "      <td>72198238</td>\n",
       "      <td>239900.0</td>\n",
       "      <td>18</td>\n",
       "      <td>3</td>\n",
       "      <td>2.0</td>\n",
       "      <td>1335</td>\n",
       "      <td>78</td>\n",
       "      <td>1</td>\n",
       "    </tr>\n",
       "    <tr>\n",
       "      <th>26705</th>\n",
       "      <td>False</td>\n",
       "      <td>72195322</td>\n",
       "      <td>575000.0</td>\n",
       "      <td>38</td>\n",
       "      <td>5</td>\n",
       "      <td>4.5</td>\n",
       "      <td>3614</td>\n",
       "      <td>118</td>\n",
       "      <td>2</td>\n",
       "    </tr>\n",
       "    <tr>\n",
       "      <th>14120</th>\n",
       "      <td>False</td>\n",
       "      <td>72021834</td>\n",
       "      <td>435000.0</td>\n",
       "      <td>74</td>\n",
       "      <td>4</td>\n",
       "      <td>3.5</td>\n",
       "      <td>3392</td>\n",
       "      <td>10</td>\n",
       "      <td>2</td>\n",
       "    </tr>\n",
       "  </tbody>\n",
       "</table>\n",
       "</div>"
      ],
      "text/plain": [
       "       FLIPPABLE    MLSNUM  SOLDPRICE  DOM  BEDS  BATHS  SQFT  AGE  GARAGE\n",
       "64087      False  72005990   175000.0   57     2    1.0  1056   58       0\n",
       "16124      False  71980752   840000.0   50     5    2.5  2300  113       0\n",
       "25490      False  72198238   239900.0   18     3    2.0  1335   78       1\n",
       "26705      False  72195322   575000.0   38     5    4.5  3614  118       2\n",
       "14120      False  72021834   435000.0   74     4    3.5  3392   10       2"
      ]
     },
     "execution_count": 176,
     "metadata": {},
     "output_type": "execute_result"
    }
   ],
   "source": [
    "df.head()"
   ]
  },
  {
   "cell_type": "code",
   "execution_count": 128,
   "metadata": {},
   "outputs": [
    {
     "data": {
      "text/plain": [
       "count    1.333750e+05\n",
       "mean     4.562606e+05\n",
       "std      4.390886e+05\n",
       "min      1.000000e+00\n",
       "25%      2.500000e+05\n",
       "50%      3.640000e+05\n",
       "75%      5.300000e+05\n",
       "max      4.550000e+07\n",
       "Name: SOLDPRICE, dtype: float64"
      ]
     },
     "execution_count": 128,
     "metadata": {},
     "output_type": "execute_result"
    }
   ],
   "source": [
    "df.SOLDPRICE.describe()"
   ]
  },
  {
   "cell_type": "markdown",
   "metadata": {},
   "source": [
    "# Learning About Our Data\n",
    "\n",
    "Ok, everything is loaded in, let's play!\n",
    "\n",
    "First: this is a classification problem, we are classifying houses as FLIPPABLE 0 or 1. I want to see which of our continuous predictors affect whether a house is flippable or not, as well as see any relationships between the predictors themselves. Scatter matrix is helpful with that."
   ]
  },
  {
   "cell_type": "code",
   "execution_count": 177,
   "metadata": {},
   "outputs": [],
   "source": [
    "# Define label and features\n",
    "y_names = ['FLIPPABLE']\n",
    "x_names = ['SOLDPRICE', 'DOM', 'BEDS', 'BATHS', 'SQFT', 'AGE', 'GARAGE']\n",
    "\n",
    "y = df[y_names]\n",
    "x = df[x_names]"
   ]
  },
  {
   "cell_type": "code",
   "execution_count": 178,
   "metadata": {},
   "outputs": [
    {
     "data": {
      "image/png": "[encoded data removed]",
      "text/plain": [
       "<Figure size 360x360 with 1 Axes>"
      ]
     },
     "metadata": {
      "needs_background": "light"
     },
     "output_type": "display_data"
    },
    {
     "data": {
      "image/png": "[encoded data removed]",
      "text/plain": [
       "<Figure size 360x360 with 1 Axes>"
      ]
     },
     "metadata": {
      "needs_background": "light"
     },
     "output_type": "display_data"
    },
    {
     "data": {
      "image/png": "[encoded data removed]",
      "text/plain": [
       "<Figure size 360x360 with 1 Axes>"
      ]
     },
     "metadata": {
      "needs_background": "light"
     },
     "output_type": "display_data"
    },
    {
     "data": {
      "image/png": "[encoded data removed]",
      "text/plain": [
       "<Figure size 360x360 with 1 Axes>"
      ]
     },
     "metadata": {
      "needs_background": "light"
     },
     "output_type": "display_data"
    },
    {
     "data": {
      "image/png": "[encoded data removed]",
      "text/plain": [
       "<Figure size 360x360 with 1 Axes>"
      ]
     },
     "metadata": {
      "needs_background": "light"
     },
     "output_type": "display_data"
    },
    {
     "data": {
      "image/png": "[encoded data removed]",
      "text/plain": [
       "<Figure size 360x360 with 1 Axes>"
      ]
     },
     "metadata": {
      "needs_background": "light"
     },
     "output_type": "display_data"
    },
    {
     "data": {
      "image/png": "[encoded data removed]",
      "text/plain": [
       "<Figure size 360x360 with 1 Axes>"
      ]
     },
     "metadata": {
      "needs_background": "light"
     },
     "output_type": "display_data"
    }
   ],
   "source": [
    "# Make boxplots so we can see the shape of our data a bit better, and catch outliers\n",
    "# https://seaborn.pydata.org/tutorial/categorical.html\n",
    "\n",
    "for i in range(0, len(x_names)):\n",
    "    sns.catplot(x=\"FLIPPABLE\", y=x_names[i], kind=\"boxen\", data=df);"
   ]
  },
  {
   "cell_type": "code",
   "execution_count": 371,
   "metadata": {},
   "outputs": [
    {
     "data": {
      "text/html": [
       "<div>\n",
       "<style scoped>\n",
       "    .dataframe tbody tr th:only-of-type {\n",
       "        vertical-align: middle;\n",
       "    }\n",
       "\n",
       "    .dataframe tbody tr th {\n",
       "        vertical-align: top;\n",
       "    }\n",
       "\n",
       "    .dataframe thead th {\n",
       "        text-align: right;\n",
       "    }\n",
       "</style>\n",
       "<table border=\"1\" class=\"dataframe\">\n",
       "  <thead>\n",
       "    <tr style=\"text-align: right;\">\n",
       "      <th></th>\n",
       "      <th>FLIPPABLE</th>\n",
       "      <th>MLSNUM</th>\n",
       "      <th>SOLDPRICE</th>\n",
       "      <th>DOM</th>\n",
       "      <th>BEDS</th>\n",
       "      <th>BATHS</th>\n",
       "      <th>SQFT</th>\n",
       "      <th>AGE</th>\n",
       "      <th>GARAGE</th>\n",
       "    </tr>\n",
       "  </thead>\n",
       "  <tbody>\n",
       "    <tr>\n",
       "      <th>420</th>\n",
       "      <td>True</td>\n",
       "      <td>71947648</td>\n",
       "      <td>608273.0</td>\n",
       "      <td>41</td>\n",
       "      <td>3</td>\n",
       "      <td>2.5</td>\n",
       "      <td>2086</td>\n",
       "      <td>-68</td>\n",
       "      <td>2</td>\n",
       "    </tr>\n",
       "    <tr>\n",
       "      <th>3550</th>\n",
       "      <td>True</td>\n",
       "      <td>71947648</td>\n",
       "      <td>608273.0</td>\n",
       "      <td>41</td>\n",
       "      <td>3</td>\n",
       "      <td>2.5</td>\n",
       "      <td>2086</td>\n",
       "      <td>-68</td>\n",
       "      <td>2</td>\n",
       "    </tr>\n",
       "    <tr>\n",
       "      <th>10411</th>\n",
       "      <td>False</td>\n",
       "      <td>72191043</td>\n",
       "      <td>810000.0</td>\n",
       "      <td>22</td>\n",
       "      <td>5</td>\n",
       "      <td>3.0</td>\n",
       "      <td>4000</td>\n",
       "      <td>-7981</td>\n",
       "      <td>0</td>\n",
       "    </tr>\n",
       "    <tr>\n",
       "      <th>10852</th>\n",
       "      <td>False</td>\n",
       "      <td>72029110</td>\n",
       "      <td>99000.0</td>\n",
       "      <td>3</td>\n",
       "      <td>4</td>\n",
       "      <td>2.0</td>\n",
       "      <td>2190</td>\n",
       "      <td>-172</td>\n",
       "      <td>0</td>\n",
       "    </tr>\n",
       "    <tr>\n",
       "      <th>13605</th>\n",
       "      <td>False</td>\n",
       "      <td>71920084</td>\n",
       "      <td>150000.0</td>\n",
       "      <td>52</td>\n",
       "      <td>3</td>\n",
       "      <td>2.0</td>\n",
       "      <td>1305</td>\n",
       "      <td>-7981</td>\n",
       "      <td>1</td>\n",
       "    </tr>\n",
       "    <tr>\n",
       "      <th>15298</th>\n",
       "      <td>False</td>\n",
       "      <td>71980474</td>\n",
       "      <td>185000.0</td>\n",
       "      <td>134</td>\n",
       "      <td>3</td>\n",
       "      <td>2.0</td>\n",
       "      <td>1280</td>\n",
       "      <td>-7981</td>\n",
       "      <td>1</td>\n",
       "    </tr>\n",
       "    <tr>\n",
       "      <th>21722</th>\n",
       "      <td>False</td>\n",
       "      <td>72003822</td>\n",
       "      <td>389000.0</td>\n",
       "      <td>84</td>\n",
       "      <td>3</td>\n",
       "      <td>2.5</td>\n",
       "      <td>2321</td>\n",
       "      <td>-6478</td>\n",
       "      <td>2</td>\n",
       "    </tr>\n",
       "    <tr>\n",
       "      <th>22864</th>\n",
       "      <td>False</td>\n",
       "      <td>72110860</td>\n",
       "      <td>2900000.0</td>\n",
       "      <td>193</td>\n",
       "      <td>6</td>\n",
       "      <td>3.5</td>\n",
       "      <td>3469</td>\n",
       "      <td>-7981</td>\n",
       "      <td>0</td>\n",
       "    </tr>\n",
       "    <tr>\n",
       "      <th>25740</th>\n",
       "      <td>False</td>\n",
       "      <td>72179044</td>\n",
       "      <td>564000.0</td>\n",
       "      <td>66</td>\n",
       "      <td>4</td>\n",
       "      <td>2.5</td>\n",
       "      <td>2430</td>\n",
       "      <td>-7981</td>\n",
       "      <td>1</td>\n",
       "    </tr>\n",
       "    <tr>\n",
       "      <th>40441</th>\n",
       "      <td>False</td>\n",
       "      <td>72205606</td>\n",
       "      <td>559000.0</td>\n",
       "      <td>80</td>\n",
       "      <td>4</td>\n",
       "      <td>2.5</td>\n",
       "      <td>2520</td>\n",
       "      <td>-7981</td>\n",
       "      <td>2</td>\n",
       "    </tr>\n",
       "    <tr>\n",
       "      <th>42368</th>\n",
       "      <td>False</td>\n",
       "      <td>72212450</td>\n",
       "      <td>665000.0</td>\n",
       "      <td>28</td>\n",
       "      <td>6</td>\n",
       "      <td>3.0</td>\n",
       "      <td>3000</td>\n",
       "      <td>-7981</td>\n",
       "      <td>2</td>\n",
       "    </tr>\n",
       "    <tr>\n",
       "      <th>44062</th>\n",
       "      <td>False</td>\n",
       "      <td>72082350</td>\n",
       "      <td>140000.0</td>\n",
       "      <td>330</td>\n",
       "      <td>4</td>\n",
       "      <td>2.0</td>\n",
       "      <td>1472</td>\n",
       "      <td>-7981</td>\n",
       "      <td>0</td>\n",
       "    </tr>\n",
       "    <tr>\n",
       "      <th>44544</th>\n",
       "      <td>False</td>\n",
       "      <td>72232439</td>\n",
       "      <td>264500.0</td>\n",
       "      <td>26</td>\n",
       "      <td>6</td>\n",
       "      <td>4.0</td>\n",
       "      <td>4718</td>\n",
       "      <td>-7981</td>\n",
       "      <td>3</td>\n",
       "    </tr>\n",
       "    <tr>\n",
       "      <th>45220</th>\n",
       "      <td>False</td>\n",
       "      <td>72121524</td>\n",
       "      <td>539900.0</td>\n",
       "      <td>19</td>\n",
       "      <td>3</td>\n",
       "      <td>2.0</td>\n",
       "      <td>1830</td>\n",
       "      <td>-88</td>\n",
       "      <td>2</td>\n",
       "    </tr>\n",
       "    <tr>\n",
       "      <th>49656</th>\n",
       "      <td>False</td>\n",
       "      <td>72089520</td>\n",
       "      <td>641657.0</td>\n",
       "      <td>81</td>\n",
       "      <td>3</td>\n",
       "      <td>2.5</td>\n",
       "      <td>2086</td>\n",
       "      <td>-68</td>\n",
       "      <td>2</td>\n",
       "    </tr>\n",
       "    <tr>\n",
       "      <th>51633</th>\n",
       "      <td>False</td>\n",
       "      <td>72142398</td>\n",
       "      <td>1515000.0</td>\n",
       "      <td>23</td>\n",
       "      <td>6</td>\n",
       "      <td>6.0</td>\n",
       "      <td>3850</td>\n",
       "      <td>-7981</td>\n",
       "      <td>0</td>\n",
       "    </tr>\n",
       "    <tr>\n",
       "      <th>55265</th>\n",
       "      <td>False</td>\n",
       "      <td>72080444</td>\n",
       "      <td>245000.0</td>\n",
       "      <td>16</td>\n",
       "      <td>3</td>\n",
       "      <td>1.0</td>\n",
       "      <td>1286</td>\n",
       "      <td>-7981</td>\n",
       "      <td>1</td>\n",
       "    </tr>\n",
       "    <tr>\n",
       "      <th>56792</th>\n",
       "      <td>False</td>\n",
       "      <td>71916045</td>\n",
       "      <td>151000.0</td>\n",
       "      <td>358</td>\n",
       "      <td>4</td>\n",
       "      <td>2.0</td>\n",
       "      <td>1561</td>\n",
       "      <td>-7981</td>\n",
       "      <td>1</td>\n",
       "    </tr>\n",
       "    <tr>\n",
       "      <th>58833</th>\n",
       "      <td>False</td>\n",
       "      <td>71928371</td>\n",
       "      <td>350000.0</td>\n",
       "      <td>188</td>\n",
       "      <td>4</td>\n",
       "      <td>1.5</td>\n",
       "      <td>2166</td>\n",
       "      <td>-7981</td>\n",
       "      <td>2</td>\n",
       "    </tr>\n",
       "    <tr>\n",
       "      <th>62301</th>\n",
       "      <td>False</td>\n",
       "      <td>71988620</td>\n",
       "      <td>348000.0</td>\n",
       "      <td>74</td>\n",
       "      <td>3</td>\n",
       "      <td>2.0</td>\n",
       "      <td>1536</td>\n",
       "      <td>-7981</td>\n",
       "      <td>0</td>\n",
       "    </tr>\n",
       "    <tr>\n",
       "      <th>64483</th>\n",
       "      <td>False</td>\n",
       "      <td>71892962</td>\n",
       "      <td>160000.0</td>\n",
       "      <td>292</td>\n",
       "      <td>2</td>\n",
       "      <td>1.0</td>\n",
       "      <td>677</td>\n",
       "      <td>-830</td>\n",
       "      <td>0</td>\n",
       "    </tr>\n",
       "    <tr>\n",
       "      <th>64925</th>\n",
       "      <td>False</td>\n",
       "      <td>71939481</td>\n",
       "      <td>299293.0</td>\n",
       "      <td>145</td>\n",
       "      <td>3</td>\n",
       "      <td>2.0</td>\n",
       "      <td>1456</td>\n",
       "      <td>-88</td>\n",
       "      <td>2</td>\n",
       "    </tr>\n",
       "    <tr>\n",
       "      <th>69191</th>\n",
       "      <td>False</td>\n",
       "      <td>72094644</td>\n",
       "      <td>659525.0</td>\n",
       "      <td>80</td>\n",
       "      <td>3</td>\n",
       "      <td>2.5</td>\n",
       "      <td>2086</td>\n",
       "      <td>-68</td>\n",
       "      <td>2</td>\n",
       "    </tr>\n",
       "    <tr>\n",
       "      <th>69382</th>\n",
       "      <td>False</td>\n",
       "      <td>72144583</td>\n",
       "      <td>429000.0</td>\n",
       "      <td>1</td>\n",
       "      <td>3</td>\n",
       "      <td>1.5</td>\n",
       "      <td>1554</td>\n",
       "      <td>-7981</td>\n",
       "      <td>0</td>\n",
       "    </tr>\n",
       "    <tr>\n",
       "      <th>78088</th>\n",
       "      <td>False</td>\n",
       "      <td>72242689</td>\n",
       "      <td>900000.0</td>\n",
       "      <td>47</td>\n",
       "      <td>4</td>\n",
       "      <td>3.5</td>\n",
       "      <td>2848</td>\n",
       "      <td>-899</td>\n",
       "      <td>2</td>\n",
       "    </tr>\n",
       "    <tr>\n",
       "      <th>79906</th>\n",
       "      <td>False</td>\n",
       "      <td>72132722</td>\n",
       "      <td>675000.0</td>\n",
       "      <td>46</td>\n",
       "      <td>3</td>\n",
       "      <td>2.5</td>\n",
       "      <td>2086</td>\n",
       "      <td>-68</td>\n",
       "      <td>2</td>\n",
       "    </tr>\n",
       "    <tr>\n",
       "      <th>80924</th>\n",
       "      <td>False</td>\n",
       "      <td>72229389</td>\n",
       "      <td>430000.0</td>\n",
       "      <td>23</td>\n",
       "      <td>3</td>\n",
       "      <td>2.5</td>\n",
       "      <td>2074</td>\n",
       "      <td>-56</td>\n",
       "      <td>0</td>\n",
       "    </tr>\n",
       "    <tr>\n",
       "      <th>81709</th>\n",
       "      <td>False</td>\n",
       "      <td>72149033</td>\n",
       "      <td>655145.0</td>\n",
       "      <td>81</td>\n",
       "      <td>3</td>\n",
       "      <td>2.5</td>\n",
       "      <td>2086</td>\n",
       "      <td>-68</td>\n",
       "      <td>2</td>\n",
       "    </tr>\n",
       "    <tr>\n",
       "      <th>86195</th>\n",
       "      <td>False</td>\n",
       "      <td>72222081</td>\n",
       "      <td>1066875.0</td>\n",
       "      <td>81</td>\n",
       "      <td>4</td>\n",
       "      <td>3.0</td>\n",
       "      <td>2240</td>\n",
       "      <td>-188</td>\n",
       "      <td>0</td>\n",
       "    </tr>\n",
       "    <tr>\n",
       "      <th>87230</th>\n",
       "      <td>False</td>\n",
       "      <td>72252296</td>\n",
       "      <td>255000.0</td>\n",
       "      <td>235</td>\n",
       "      <td>4</td>\n",
       "      <td>2.5</td>\n",
       "      <td>2348</td>\n",
       "      <td>-263</td>\n",
       "      <td>2</td>\n",
       "    </tr>\n",
       "    <tr>\n",
       "      <th>90925</th>\n",
       "      <td>False</td>\n",
       "      <td>72093762</td>\n",
       "      <td>740000.0</td>\n",
       "      <td>47</td>\n",
       "      <td>9</td>\n",
       "      <td>4.0</td>\n",
       "      <td>3539</td>\n",
       "      <td>-7981</td>\n",
       "      <td>1</td>\n",
       "    </tr>\n",
       "    <tr>\n",
       "      <th>94963</th>\n",
       "      <td>False</td>\n",
       "      <td>72045435</td>\n",
       "      <td>631890.0</td>\n",
       "      <td>16</td>\n",
       "      <td>3</td>\n",
       "      <td>2.5</td>\n",
       "      <td>2086</td>\n",
       "      <td>-68</td>\n",
       "      <td>2</td>\n",
       "    </tr>\n",
       "    <tr>\n",
       "      <th>100871</th>\n",
       "      <td>False</td>\n",
       "      <td>72044555</td>\n",
       "      <td>166000.0</td>\n",
       "      <td>135</td>\n",
       "      <td>4</td>\n",
       "      <td>2.0</td>\n",
       "      <td>1453</td>\n",
       "      <td>-7981</td>\n",
       "      <td>2</td>\n",
       "    </tr>\n",
       "    <tr>\n",
       "      <th>100949</th>\n",
       "      <td>False</td>\n",
       "      <td>72083972</td>\n",
       "      <td>403000.0</td>\n",
       "      <td>60</td>\n",
       "      <td>3</td>\n",
       "      <td>2.5</td>\n",
       "      <td>1536</td>\n",
       "      <td>-88</td>\n",
       "      <td>0</td>\n",
       "    </tr>\n",
       "    <tr>\n",
       "      <th>103414</th>\n",
       "      <td>False</td>\n",
       "      <td>72088506</td>\n",
       "      <td>1027500.0</td>\n",
       "      <td>149</td>\n",
       "      <td>6</td>\n",
       "      <td>5.0</td>\n",
       "      <td>4500</td>\n",
       "      <td>-7981</td>\n",
       "      <td>3</td>\n",
       "    </tr>\n",
       "    <tr>\n",
       "      <th>104574</th>\n",
       "      <td>False</td>\n",
       "      <td>72061311</td>\n",
       "      <td>651700.0</td>\n",
       "      <td>44</td>\n",
       "      <td>3</td>\n",
       "      <td>2.5</td>\n",
       "      <td>2086</td>\n",
       "      <td>-68</td>\n",
       "      <td>2</td>\n",
       "    </tr>\n",
       "    <tr>\n",
       "      <th>111936</th>\n",
       "      <td>False</td>\n",
       "      <td>72111244</td>\n",
       "      <td>646665.0</td>\n",
       "      <td>14</td>\n",
       "      <td>3</td>\n",
       "      <td>2.5</td>\n",
       "      <td>2086</td>\n",
       "      <td>-68</td>\n",
       "      <td>2</td>\n",
       "    </tr>\n",
       "    <tr>\n",
       "      <th>112984</th>\n",
       "      <td>False</td>\n",
       "      <td>72113042</td>\n",
       "      <td>628590.0</td>\n",
       "      <td>63</td>\n",
       "      <td>3</td>\n",
       "      <td>2.5</td>\n",
       "      <td>2086</td>\n",
       "      <td>-68</td>\n",
       "      <td>2</td>\n",
       "    </tr>\n",
       "    <tr>\n",
       "      <th>127038</th>\n",
       "      <td>False</td>\n",
       "      <td>71886289</td>\n",
       "      <td>1029000.0</td>\n",
       "      <td>99</td>\n",
       "      <td>4</td>\n",
       "      <td>3.0</td>\n",
       "      <td>2500</td>\n",
       "      <td>-7981</td>\n",
       "      <td>1</td>\n",
       "    </tr>\n",
       "    <tr>\n",
       "      <th>129122</th>\n",
       "      <td>False</td>\n",
       "      <td>71942158</td>\n",
       "      <td>507000.0</td>\n",
       "      <td>161</td>\n",
       "      <td>4</td>\n",
       "      <td>2.5</td>\n",
       "      <td>2430</td>\n",
       "      <td>-7981</td>\n",
       "      <td>1</td>\n",
       "    </tr>\n",
       "  </tbody>\n",
       "</table>\n",
       "</div>"
      ],
      "text/plain": [
       "        FLIPPABLE    MLSNUM  SOLDPRICE  DOM  BEDS  BATHS  SQFT   AGE  GARAGE\n",
       "420          True  71947648   608273.0   41     3    2.5  2086   -68       2\n",
       "3550         True  71947648   608273.0   41     3    2.5  2086   -68       2\n",
       "10411       False  72191043   810000.0   22     5    3.0  4000 -7981       0\n",
       "10852       False  72029110    99000.0    3     4    2.0  2190  -172       0\n",
       "13605       False  71920084   150000.0   52     3    2.0  1305 -7981       1\n",
       "15298       False  71980474   185000.0  134     3    2.0  1280 -7981       1\n",
       "21722       False  72003822   389000.0   84     3    2.5  2321 -6478       2\n",
       "22864       False  72110860  2900000.0  193     6    3.5  3469 -7981       0\n",
       "25740       False  72179044   564000.0   66     4    2.5  2430 -7981       1\n",
       "40441       False  72205606   559000.0   80     4    2.5  2520 -7981       2\n",
       "42368       False  72212450   665000.0   28     6    3.0  3000 -7981       2\n",
       "44062       False  72082350   140000.0  330     4    2.0  1472 -7981       0\n",
       "44544       False  72232439   264500.0   26     6    4.0  4718 -7981       3\n",
       "45220       False  72121524   539900.0   19     3    2.0  1830   -88       2\n",
       "49656       False  72089520   641657.0   81     3    2.5  2086   -68       2\n",
       "51633       False  72142398  1515000.0   23     6    6.0  3850 -7981       0\n",
       "55265       False  72080444   245000.0   16     3    1.0  1286 -7981       1\n",
       "56792       False  71916045   151000.0  358     4    2.0  1561 -7981       1\n",
       "58833       False  71928371   350000.0  188     4    1.5  2166 -7981       2\n",
       "62301       False  71988620   348000.0   74     3    2.0  1536 -7981       0\n",
       "64483       False  71892962   160000.0  292     2    1.0   677  -830       0\n",
       "64925       False  71939481   299293.0  145     3    2.0  1456   -88       2\n",
       "69191       False  72094644   659525.0   80     3    2.5  2086   -68       2\n",
       "69382       False  72144583   429000.0    1     3    1.5  1554 -7981       0\n",
       "78088       False  72242689   900000.0   47     4    3.5  2848  -899       2\n",
       "79906       False  72132722   675000.0   46     3    2.5  2086   -68       2\n",
       "80924       False  72229389   430000.0   23     3    2.5  2074   -56       0\n",
       "81709       False  72149033   655145.0   81     3    2.5  2086   -68       2\n",
       "86195       False  72222081  1066875.0   81     4    3.0  2240  -188       0\n",
       "87230       False  72252296   255000.0  235     4    2.5  2348  -263       2\n",
       "90925       False  72093762   740000.0   47     9    4.0  3539 -7981       1\n",
       "94963       False  72045435   631890.0   16     3    2.5  2086   -68       2\n",
       "100871      False  72044555   166000.0  135     4    2.0  1453 -7981       2\n",
       "100949      False  72083972   403000.0   60     3    2.5  1536   -88       0\n",
       "103414      False  72088506  1027500.0  149     6    5.0  4500 -7981       3\n",
       "104574      False  72061311   651700.0   44     3    2.5  2086   -68       2\n",
       "111936      False  72111244   646665.0   14     3    2.5  2086   -68       2\n",
       "112984      False  72113042   628590.0   63     3    2.5  2086   -68       2\n",
       "127038      False  71886289  1029000.0   99     4    3.0  2500 -7981       1\n",
       "129122      False  71942158   507000.0  161     4    2.5  2430 -7981       1"
      ]
     },
     "execution_count": 371,
     "metadata": {},
     "output_type": "execute_result"
    }
   ],
   "source": [
    "# Looks like we are getting some negative values with age. We'll clean this up in the next version (leaving that for team members)\n",
    "df.loc[df['AGE'] < 0]"
   ]
  },
  {
   "cell_type": "code",
   "execution_count": 372,
   "metadata": {},
   "outputs": [
    {
     "data": {
      "text/plain": [
       "2010"
      ]
     },
     "execution_count": 372,
     "metadata": {},
     "output_type": "execute_result"
    }
   ],
   "source": [
    "# it also seems like year built may be getting entered for age, since we are getting values over 2000...\n",
    "\n",
    "df['AGE'].max()"
   ]
  },
  {
   "cell_type": "markdown",
   "metadata": {},
   "source": [
    "## PCA\n",
    "\n",
    "PCA can tell us a lot about which predictors correlate most strongly with our outcome. Let's look at two components and then break them down to see which predictors are strongest.\n",
    "\n",
    "We see at the bottom that SOLDPRICE and SQFT are the strongest (conceptally makes sense - we expect fixer uppers to have a lower price per square foot). We also see lots of outliers in our data.\n",
    "\n",
    "The biggest challenge here is that there's really not a clear deliniation of the data (at least in the untransformed state), so our flippable houses are essentially a subset of the unflippable data. We see the same pattern in the scatter matrix below."
   ]
  },
  {
   "cell_type": "code",
   "execution_count": 179,
   "metadata": {},
   "outputs": [
    {
     "data": {
      "text/plain": [
       "<Figure size 432x288 with 0 Axes>"
      ]
     },
     "metadata": {},
     "output_type": "display_data"
    },
    {
     "data": {
      "image/png": "[encoded data removed]",
      "text/plain": [
       "<Figure size 720x720 with 1 Axes>"
      ]
     },
     "metadata": {
      "needs_background": "light"
     },
     "output_type": "display_data"
    },
    {
     "data": {
      "image/png": "[encoded data removed]",
      "text/plain": [
       "<Figure size 1008x288 with 2 Axes>"
      ]
     },
     "metadata": {
      "needs_background": "light"
     },
     "output_type": "display_data"
    },
    {
     "name": "stdout",
     "output_type": "stream",
     "text": [
      "[9.99992757e-01 7.24314474e-06]\n"
     ]
    }
   ],
   "source": [
    "# using help from guide here: https://www.datacamp.com/community/tutorials/principal-component-analysis-in-python\n",
    "\n",
    "from sklearn.decomposition import PCA\n",
    "\n",
    "pca = PCA(n_components=2)\n",
    "pca_fit = pca.fit_transform(x)\n",
    "pca_df = pd.DataFrame(data = pca_fit, columns = ['PCA 1', 'PCA 2'])\n",
    "\n",
    "plt.figure()\n",
    "plt.figure(figsize=(10,10))\n",
    "plt.xticks(fontsize=12)\n",
    "plt.yticks(fontsize=14)\n",
    "plt.xlabel('PCA 1',fontsize=20)\n",
    "plt.ylabel('PCA 2',fontsize=20)\n",
    "plt.title(\"Principal Component Analysis of Housing Data\",fontsize=20)\n",
    "targets = [0, 1]\n",
    "colors = ['r', 'g']\n",
    "for target, color in zip(targets,colors):\n",
    "    indicesToKeep = df['FLIPPABLE'] == target\n",
    "    plt.scatter(pca_df.loc[indicesToKeep, 'PCA 1'], \n",
    "                pca_df.loc[indicesToKeep, 'PCA 2'], \n",
    "                c = color, s = 50)\n",
    "\n",
    "plt.legend(targets,prop={'size': 15})\n",
    "\n",
    "# from here: https://towardsdatascience.com/dive-into-pca-principal-component-analysis-with-python-43ded13ead21\n",
    "plt.matshow(pca.components_, cmap='viridis')\n",
    "plt.yticks([0,1],['PCA 1','PCA 2'],fontsize=10)\n",
    "plt.colorbar()\n",
    "plt.xticks(range(len(x_names)),x_names,rotation=65,ha='left')\n",
    "plt.show()\n",
    "\n",
    "# explained variance\n",
    "x_pca=pca.transform(x)\n",
    "ex_variance=np.var(x_pca,axis=0)\n",
    "ex_variance_ratio = ex_variance/np.sum(ex_variance)\n",
    "print (ex_variance_ratio) "
   ]
  },
  {
   "cell_type": "code",
   "execution_count": 180,
   "metadata": {},
   "outputs": [
    {
     "data": {
      "text/plain": [
       "array([[<matplotlib.axes._subplots.AxesSubplot object at 0x7fb394cf3370>,\n",
       "        <matplotlib.axes._subplots.AxesSubplot object at 0x7fb370689790>,\n",
       "        <matplotlib.axes._subplots.AxesSubplot object at 0x7fb36fd24730>,\n",
       "        <matplotlib.axes._subplots.AxesSubplot object at 0x7fb36fcefeb0>,\n",
       "        <matplotlib.axes._subplots.AxesSubplot object at 0x7fb12b949520>,\n",
       "        <matplotlib.axes._subplots.AxesSubplot object at 0x7fb12c22eaf0>,\n",
       "        <matplotlib.axes._subplots.AxesSubplot object at 0x7fb12c22ebe0>],\n",
       "       [<matplotlib.axes._subplots.AxesSubplot object at 0x7fb12c2133a0>,\n",
       "        <matplotlib.axes._subplots.AxesSubplot object at 0x7fb12beb9250>,\n",
       "        <matplotlib.axes._subplots.AxesSubplot object at 0x7fb11431e9d0>,\n",
       "        <matplotlib.axes._subplots.AxesSubplot object at 0x7fb1142f2190>,\n",
       "        <matplotlib.axes._subplots.AxesSubplot object at 0x7fb39fe66af0>,\n",
       "        <matplotlib.axes._subplots.AxesSubplot object at 0x7fb12bcb7730>,\n",
       "        <matplotlib.axes._subplots.AxesSubplot object at 0x7fb1290067f0>],\n",
       "       [<matplotlib.axes._subplots.AxesSubplot object at 0x7fb12bcdf1c0>,\n",
       "        <matplotlib.axes._subplots.AxesSubplot object at 0x7fb3a05a3c70>,\n",
       "        <matplotlib.axes._subplots.AxesSubplot object at 0x7fb370575c40>,\n",
       "        <matplotlib.axes._subplots.AxesSubplot object at 0x7fb37057aee0>,\n",
       "        <matplotlib.axes._subplots.AxesSubplot object at 0x7fb12bcbe5e0>,\n",
       "        <matplotlib.axes._subplots.AxesSubplot object at 0x7fb128faabb0>,\n",
       "        <matplotlib.axes._subplots.AxesSubplot object at 0x7fb128fa3f70>],\n",
       "       [<matplotlib.axes._subplots.AxesSubplot object at 0x7fb12b048df0>,\n",
       "        <matplotlib.axes._subplots.AxesSubplot object at 0x7fb397ce1610>,\n",
       "        <matplotlib.axes._subplots.AxesSubplot object at 0x7fb128fb0220>,\n",
       "        <matplotlib.axes._subplots.AxesSubplot object at 0x7fb370189d60>,\n",
       "        <matplotlib.axes._subplots.AxesSubplot object at 0x7fb3801d70d0>,\n",
       "        <matplotlib.axes._subplots.AxesSubplot object at 0x7fb12bcff130>,\n",
       "        <matplotlib.axes._subplots.AxesSubplot object at 0x7fb128fdf6d0>],\n",
       "       [<matplotlib.axes._subplots.AxesSubplot object at 0x7fb128f96b20>,\n",
       "        <matplotlib.axes._subplots.AxesSubplot object at 0x7fb170a63f70>,\n",
       "        <matplotlib.axes._subplots.AxesSubplot object at 0x7fb128f25400>,\n",
       "        <matplotlib.axes._subplots.AxesSubplot object at 0x7fb112019850>,\n",
       "        <matplotlib.axes._subplots.AxesSubplot object at 0x7fb11202eca0>,\n",
       "        <matplotlib.axes._subplots.AxesSubplot object at 0x7fb1127dd130>,\n",
       "        <matplotlib.axes._subplots.AxesSubplot object at 0x7fb114595580>],\n",
       "       [<matplotlib.axes._subplots.AxesSubplot object at 0x7fb111e3b9d0>,\n",
       "        <matplotlib.axes._subplots.AxesSubplot object at 0x7fb111e29e20>,\n",
       "        <matplotlib.axes._subplots.AxesSubplot object at 0x7fb11213a2b0>,\n",
       "        <matplotlib.axes._subplots.AxesSubplot object at 0x7fb1142d8700>,\n",
       "        <matplotlib.axes._subplots.AxesSubplot object at 0x7fb111d0db50>,\n",
       "        <matplotlib.axes._subplots.AxesSubplot object at 0x7fb111d3afa0>,\n",
       "        <matplotlib.axes._subplots.AxesSubplot object at 0x7fb111ba8130>],\n",
       "       [<matplotlib.axes._subplots.AxesSubplot object at 0x7fb111d98850>,\n",
       "        <matplotlib.axes._subplots.AxesSubplot object at 0x7fb10fd8afd0>,\n",
       "        <matplotlib.axes._subplots.AxesSubplot object at 0x7fb10fdbf790>,\n",
       "        <matplotlib.axes._subplots.AxesSubplot object at 0x7fb10fe4af10>,\n",
       "        <matplotlib.axes._subplots.AxesSubplot object at 0x7fb10fe7e6d0>,\n",
       "        <matplotlib.axes._subplots.AxesSubplot object at 0x7fb10fea7e50>,\n",
       "        <matplotlib.axes._subplots.AxesSubplot object at 0x7fb10ff0d610>]],\n",
       "      dtype=object)"
      ]
     },
     "execution_count": 180,
     "metadata": {},
     "output_type": "execute_result"
    },
    {
     "data": {
      "image/png": "[encoded data removed]",
      "text/plain": [
       "<Figure size 1440x1440 with 49 Axes>"
      ]
     },
     "metadata": {
      "needs_background": "light"
     },
     "output_type": "display_data"
    }
   ],
   "source": [
    "from pandas.plotting import scatter_matrix\n",
    "%matplotlib inline\n",
    "\n",
    "#learned this from https://stackoverflow.com/questions/28034424/pandas-scatter-matrix-plot-categorical-variables\n",
    "colors=['pink','teal']\n",
    "scatter_matrix(x, figsize=[20,20], marker='o', alpha=0.1, c=df.FLIPPABLE.apply(lambda x:colors[x]))"
   ]
  },
  {
   "cell_type": "code",
   "execution_count": 181,
   "metadata": {},
   "outputs": [
    {
     "name": "stdout",
     "output_type": "stream",
     "text": [
      "(89361, 7)\n",
      "(44014, 7)\n"
     ]
    }
   ],
   "source": [
    "# Use train/test/split and SMOTE to oversample\n",
    "\n",
    "x_train, x_test, y_train, y_test = train_test_split(x, y, test_size=0.33)\n",
    "print(x_train.shape)\n",
    "print(x_test.shape)\n",
    "\n",
    "sm = SMOTE(random_state=2)\n",
    "x_train, y_train = sm.fit_sample(x_train, y_train)\n"
   ]
  },
  {
   "cell_type": "code",
   "execution_count": 107,
   "metadata": {},
   "outputs": [
    {
     "data": {
      "text/html": [
       "<div>\n",
       "<style scoped>\n",
       "    .dataframe tbody tr th:only-of-type {\n",
       "        vertical-align: middle;\n",
       "    }\n",
       "\n",
       "    .dataframe tbody tr th {\n",
       "        vertical-align: top;\n",
       "    }\n",
       "\n",
       "    .dataframe thead th {\n",
       "        text-align: right;\n",
       "    }\n",
       "</style>\n",
       "<table border=\"1\" class=\"dataframe\">\n",
       "  <thead>\n",
       "    <tr style=\"text-align: right;\">\n",
       "      <th></th>\n",
       "      <th>SOLDPRICE</th>\n",
       "      <th>DOM</th>\n",
       "      <th>BATHS</th>\n",
       "      <th>SQFT</th>\n",
       "      <th>AGE</th>\n",
       "      <th>GARAGE</th>\n",
       "    </tr>\n",
       "  </thead>\n",
       "  <tbody>\n",
       "    <tr>\n",
       "      <th>0</th>\n",
       "      <td>2.623209</td>\n",
       "      <td>46</td>\n",
       "      <td>2.0</td>\n",
       "      <td>7.161622</td>\n",
       "      <td>49</td>\n",
       "      <td>2</td>\n",
       "    </tr>\n",
       "    <tr>\n",
       "      <th>1</th>\n",
       "      <td>2.652933</td>\n",
       "      <td>6</td>\n",
       "      <td>3.5</td>\n",
       "      <td>7.621195</td>\n",
       "      <td>24</td>\n",
       "      <td>2</td>\n",
       "    </tr>\n",
       "    <tr>\n",
       "      <th>2</th>\n",
       "      <td>2.610918</td>\n",
       "      <td>26</td>\n",
       "      <td>1.0</td>\n",
       "      <td>7.550135</td>\n",
       "      <td>78</td>\n",
       "      <td>1</td>\n",
       "    </tr>\n",
       "    <tr>\n",
       "      <th>3</th>\n",
       "      <td>2.605810</td>\n",
       "      <td>85</td>\n",
       "      <td>2.0</td>\n",
       "      <td>7.399398</td>\n",
       "      <td>98</td>\n",
       "      <td>1</td>\n",
       "    </tr>\n",
       "    <tr>\n",
       "      <th>4</th>\n",
       "      <td>2.613324</td>\n",
       "      <td>14</td>\n",
       "      <td>2.0</td>\n",
       "      <td>7.313887</td>\n",
       "      <td>16</td>\n",
       "      <td>0</td>\n",
       "    </tr>\n",
       "  </tbody>\n",
       "</table>\n",
       "</div>"
      ],
      "text/plain": [
       "   SOLDPRICE  DOM  BATHS      SQFT  AGE  GARAGE\n",
       "0   2.623209   46    2.0  7.161622   49       2\n",
       "1   2.652933    6    3.5  7.621195   24       2\n",
       "2   2.610918   26    1.0  7.550135   78       1\n",
       "3   2.605810   85    2.0  7.399398   98       1\n",
       "4   2.613324   14    2.0  7.313887   16       0"
      ]
     },
     "execution_count": 107,
     "metadata": {},
     "output_type": "execute_result"
    }
   ],
   "source": [
    "x_train.head()"
   ]
  },
  {
   "cell_type": "markdown",
   "metadata": {},
   "source": [
    "# Logistic Regression"
   ]
  },
  {
   "cell_type": "code",
   "execution_count": 182,
   "metadata": {},
   "outputs": [
    {
     "name": "stdout",
     "output_type": "stream",
     "text": [
      "              precision    recall  f1-score   support\n",
      "\n",
      "       False       0.96      0.62      0.75     41478\n",
      "        True       0.08      0.52      0.14      2536\n",
      "\n",
      "    accuracy                           0.62     44014\n",
      "   macro avg       0.52      0.57      0.44     44014\n",
      "weighted avg       0.90      0.62      0.72     44014\n",
      "\n"
     ]
    }
   ],
   "source": [
    "# logistic regression w/test train split\n",
    "from sklearn.linear_model import LogisticRegression\n",
    "\n",
    "lm = linear_model.LogisticRegression()\n",
    "lm_fit = lm.fit(x_train, y_train.values.ravel())\n",
    "y_pred_lm = lm.predict(x_test)\n",
    "\n",
    "print(classification_report(y_test, y_pred_lm, zero_division=1))"
   ]
  },
  {
   "cell_type": "code",
   "execution_count": 183,
   "metadata": {},
   "outputs": [
    {
     "data": {
      "text/html": [
       "<div>\n",
       "<style scoped>\n",
       "    .dataframe tbody tr th:only-of-type {\n",
       "        vertical-align: middle;\n",
       "    }\n",
       "\n",
       "    .dataframe tbody tr th {\n",
       "        vertical-align: top;\n",
       "    }\n",
       "\n",
       "    .dataframe thead th {\n",
       "        text-align: right;\n",
       "    }\n",
       "</style>\n",
       "<table border=\"1\" class=\"dataframe\">\n",
       "  <thead>\n",
       "    <tr style=\"text-align: right;\">\n",
       "      <th></th>\n",
       "      <th>Predicted Not Flippable</th>\n",
       "      <th>Predicted Flippable</th>\n",
       "    </tr>\n",
       "  </thead>\n",
       "  <tbody>\n",
       "    <tr>\n",
       "      <th>True Not Flippable</th>\n",
       "      <td>25778</td>\n",
       "      <td>15700</td>\n",
       "    </tr>\n",
       "    <tr>\n",
       "      <th>True Flippable</th>\n",
       "      <td>1208</td>\n",
       "      <td>1328</td>\n",
       "    </tr>\n",
       "  </tbody>\n",
       "</table>\n",
       "</div>"
      ],
      "text/plain": [
       "                    Predicted Not Flippable  Predicted Flippable\n",
       "True Not Flippable                    25778                15700\n",
       "True Flippable                         1208                 1328"
      ]
     },
     "execution_count": 183,
     "metadata": {},
     "output_type": "execute_result"
    }
   ],
   "source": [
    "pd.DataFrame(\n",
    "    confusion_matrix(y_test, y_pred_lm),\n",
    "    columns=['Predicted Not Flippable', 'Predicted Flippable'],\n",
    "    index=['True Not Flippable', 'True Flippable']\n",
    ")"
   ]
  },
  {
   "cell_type": "markdown",
   "metadata": {},
   "source": [
    "# Decision Tree Classifier"
   ]
  },
  {
   "cell_type": "code",
   "execution_count": 184,
   "metadata": {},
   "outputs": [
    {
     "name": "stdout",
     "output_type": "stream",
     "text": [
      "36\n",
      "              precision    recall  f1-score   support\n",
      "\n",
      "       False       0.98      0.92      0.95     41478\n",
      "        True       0.35      0.72      0.48      2536\n",
      "\n",
      "    accuracy                           0.91     44014\n",
      "   macro avg       0.67      0.82      0.71     44014\n",
      "weighted avg       0.95      0.91      0.92     44014\n",
      "\n"
     ]
    }
   ],
   "source": [
    "from sklearn.tree import DecisionTreeClassifier\n",
    "\n",
    "tm = DecisionTreeClassifier()\n",
    "tm_fit = tm.fit(x_train, y_train)\n",
    "y_pred_tm = tm.predict(x_test)\n",
    "\n",
    "print(tm.tree_.max_depth)\n",
    "print(classification_report(y_test, y_pred_tm, zero_division=1))"
   ]
  },
  {
   "cell_type": "code",
   "execution_count": 185,
   "metadata": {},
   "outputs": [
    {
     "data": {
      "text/html": [
       "<div>\n",
       "<style scoped>\n",
       "    .dataframe tbody tr th:only-of-type {\n",
       "        vertical-align: middle;\n",
       "    }\n",
       "\n",
       "    .dataframe tbody tr th {\n",
       "        vertical-align: top;\n",
       "    }\n",
       "\n",
       "    .dataframe thead th {\n",
       "        text-align: right;\n",
       "    }\n",
       "</style>\n",
       "<table border=\"1\" class=\"dataframe\">\n",
       "  <thead>\n",
       "    <tr style=\"text-align: right;\">\n",
       "      <th></th>\n",
       "      <th>Predicted Not Flippable</th>\n",
       "      <th>Predicted Flippable</th>\n",
       "    </tr>\n",
       "  </thead>\n",
       "  <tbody>\n",
       "    <tr>\n",
       "      <th>True Not Flippable</th>\n",
       "      <td>38136</td>\n",
       "      <td>3342</td>\n",
       "    </tr>\n",
       "    <tr>\n",
       "      <th>True Flippable</th>\n",
       "      <td>700</td>\n",
       "      <td>1836</td>\n",
       "    </tr>\n",
       "  </tbody>\n",
       "</table>\n",
       "</div>"
      ],
      "text/plain": [
       "                    Predicted Not Flippable  Predicted Flippable\n",
       "True Not Flippable                    38136                 3342\n",
       "True Flippable                          700                 1836"
      ]
     },
     "execution_count": 185,
     "metadata": {},
     "output_type": "execute_result"
    }
   ],
   "source": [
    "pd.DataFrame(\n",
    "    confusion_matrix(y_test, y_pred_tm),\n",
    "    columns=['Predicted Not Flippable', 'Predicted Flippable'],\n",
    "    index=['True Not Flippable', 'True Flippable']\n",
    ")"
   ]
  },
  {
   "cell_type": "code",
   "execution_count": 60,
   "metadata": {},
   "outputs": [
    {
     "data": {
      "text/plain": [
       "['tm_untuned.pkl']"
      ]
     },
     "execution_count": 60,
     "metadata": {},
     "output_type": "execute_result"
    }
   ],
   "source": [
    "joblib.dump(tm, 'tm_untuned.pkl')"
   ]
  },
  {
   "cell_type": "markdown",
   "metadata": {},
   "source": [
    "# LDA and QDA"
   ]
  },
  {
   "cell_type": "code",
   "execution_count": 186,
   "metadata": {},
   "outputs": [
    {
     "name": "stdout",
     "output_type": "stream",
     "text": [
      "[0.5 0.5]\n",
      "[[4.62010552e+05 7.27993501e+01 3.66966711e+00 2.16670224e+00\n",
      "  2.14434867e+03 6.54219827e+01 1.07166661e+00]\n",
      " [3.58891357e+05 5.95443365e+01 3.13773556e+00 1.84533372e+00\n",
      "  1.77868682e+03 7.18600349e+01 5.57215877e-01]]\n",
      "[[-2.08448926e-07 -1.17070148e-03 -3.59083108e-01  2.11641640e-01\n",
      "   4.66461582e-05  4.16655971e-04 -5.78629560e-01]]\n",
      "(array([False,  True]), array([25667, 18347]))\n",
      "              precision    recall  f1-score   support\n",
      "\n",
      "       False       0.95      0.59      0.73     41478\n",
      "        True       0.07      0.54      0.13      2536\n",
      "\n",
      "    accuracy                           0.59     44014\n",
      "   macro avg       0.51      0.56      0.43     44014\n",
      "weighted avg       0.90      0.59      0.70     44014\n",
      "\n"
     ]
    }
   ],
   "source": [
    "from sklearn.discriminant_analysis import LinearDiscriminantAnalysis, QuadraticDiscriminantAnalysis\n",
    "\n",
    "lda = LinearDiscriminantAnalysis()\n",
    "lda_fit = lda.fit(x_train, y_train.values.ravel())\n",
    "\n",
    "print(lda_fit.priors_) # prior possibilities of either outcome\n",
    "print(lda_fit.means_)\n",
    "print(lda_fit.coef_)\n",
    "\n",
    "y_pred_lda=lda_fit.predict(x_test)\n",
    "print(np.unique(y_pred_lda, return_counts=True))\n",
    "print(classification_report(y_test, y_pred_lda, zero_division=1))"
   ]
  },
  {
   "cell_type": "code",
   "execution_count": 187,
   "metadata": {},
   "outputs": [
    {
     "data": {
      "text/html": [
       "<div>\n",
       "<style scoped>\n",
       "    .dataframe tbody tr th:only-of-type {\n",
       "        vertical-align: middle;\n",
       "    }\n",
       "\n",
       "    .dataframe tbody tr th {\n",
       "        vertical-align: top;\n",
       "    }\n",
       "\n",
       "    .dataframe thead th {\n",
       "        text-align: right;\n",
       "    }\n",
       "</style>\n",
       "<table border=\"1\" class=\"dataframe\">\n",
       "  <thead>\n",
       "    <tr style=\"text-align: right;\">\n",
       "      <th></th>\n",
       "      <th>Predicted Not Flippable</th>\n",
       "      <th>Predicted Flippable</th>\n",
       "    </tr>\n",
       "  </thead>\n",
       "  <tbody>\n",
       "    <tr>\n",
       "      <th>True Not Flippable</th>\n",
       "      <td>24495</td>\n",
       "      <td>16983</td>\n",
       "    </tr>\n",
       "    <tr>\n",
       "      <th>True Flippable</th>\n",
       "      <td>1172</td>\n",
       "      <td>1364</td>\n",
       "    </tr>\n",
       "  </tbody>\n",
       "</table>\n",
       "</div>"
      ],
      "text/plain": [
       "                    Predicted Not Flippable  Predicted Flippable\n",
       "True Not Flippable                    24495                16983\n",
       "True Flippable                         1172                 1364"
      ]
     },
     "execution_count": 187,
     "metadata": {},
     "output_type": "execute_result"
    }
   ],
   "source": [
    "pd.DataFrame(\n",
    "    confusion_matrix(y_test, y_pred_lda),\n",
    "    columns=['Predicted Not Flippable', 'Predicted Flippable'],\n",
    "    index=['True Not Flippable', 'True Flippable']\n",
    ")"
   ]
  },
  {
   "cell_type": "code",
   "execution_count": 188,
   "metadata": {},
   "outputs": [
    {
     "name": "stdout",
     "output_type": "stream",
     "text": [
      "[0.5 0.5]\n",
      "[[4.62010552e+05 7.27993501e+01 3.66966711e+00 2.16670224e+00\n",
      "  2.14434867e+03 6.54219827e+01 1.07166661e+00]\n",
      " [3.58891357e+05 5.95443365e+01 3.13773556e+00 1.84533372e+00\n",
      "  1.77868682e+03 7.18600349e+01 5.57215877e-01]]\n",
      "(array([False,  True]), array([10938, 33076]))\n",
      "              precision    recall  f1-score   support\n",
      "\n",
      "       False       0.96      0.25      0.40     41478\n",
      "        True       0.06      0.83      0.12      2536\n",
      "\n",
      "    accuracy                           0.29     44014\n",
      "   macro avg       0.51      0.54      0.26     44014\n",
      "weighted avg       0.91      0.29      0.38     44014\n",
      "\n"
     ]
    }
   ],
   "source": [
    "qda = QuadraticDiscriminantAnalysis()\n",
    "qda_fit = qda.fit(x_train, y_train.values.ravel())\n",
    "\n",
    "print(qda_fit.priors_) # prior possibilities of either outcome\n",
    "print(qda_fit.means_)\n",
    "\n",
    "y_pred_qda=qda_fit.predict(x_test)\n",
    "print(np.unique(y_pred_qda, return_counts=True))\n",
    "print(classification_report(y_test, y_pred_qda, zero_division=1))"
   ]
  },
  {
   "cell_type": "code",
   "execution_count": 189,
   "metadata": {},
   "outputs": [
    {
     "data": {
      "text/html": [
       "<div>\n",
       "<style scoped>\n",
       "    .dataframe tbody tr th:only-of-type {\n",
       "        vertical-align: middle;\n",
       "    }\n",
       "\n",
       "    .dataframe tbody tr th {\n",
       "        vertical-align: top;\n",
       "    }\n",
       "\n",
       "    .dataframe thead th {\n",
       "        text-align: right;\n",
       "    }\n",
       "</style>\n",
       "<table border=\"1\" class=\"dataframe\">\n",
       "  <thead>\n",
       "    <tr style=\"text-align: right;\">\n",
       "      <th></th>\n",
       "      <th>Predicted Not Flippable</th>\n",
       "      <th>Predicted Flippable</th>\n",
       "    </tr>\n",
       "  </thead>\n",
       "  <tbody>\n",
       "    <tr>\n",
       "      <th>True Not Flippable</th>\n",
       "      <td>10495</td>\n",
       "      <td>30983</td>\n",
       "    </tr>\n",
       "    <tr>\n",
       "      <th>True Flippable</th>\n",
       "      <td>443</td>\n",
       "      <td>2093</td>\n",
       "    </tr>\n",
       "  </tbody>\n",
       "</table>\n",
       "</div>"
      ],
      "text/plain": [
       "                    Predicted Not Flippable  Predicted Flippable\n",
       "True Not Flippable                    10495                30983\n",
       "True Flippable                          443                 2093"
      ]
     },
     "execution_count": 189,
     "metadata": {},
     "output_type": "execute_result"
    }
   ],
   "source": [
    "pd.DataFrame(\n",
    "    confusion_matrix(y_test, y_pred_qda),\n",
    "    columns=['Predicted Not Flippable', 'Predicted Flippable'],\n",
    "    index=['True Not Flippable', 'True Flippable']\n",
    ")"
   ]
  },
  {
   "cell_type": "markdown",
   "metadata": {},
   "source": [
    "# KNN"
   ]
  },
  {
   "cell_type": "code",
   "execution_count": 190,
   "metadata": {},
   "outputs": [
    {
     "name": "stdout",
     "output_type": "stream",
     "text": [
      "              precision    recall  f1-score   support\n",
      "\n",
      "       False       0.98      0.82      0.89     41478\n",
      "        True       0.19      0.72      0.31      2536\n",
      "\n",
      "    accuracy                           0.81     44014\n",
      "   macro avg       0.59      0.77      0.60     44014\n",
      "weighted avg       0.93      0.81      0.86     44014\n",
      "\n"
     ]
    }
   ],
   "source": [
    "from sklearn.neighbors import KNeighborsClassifier\n",
    "\n",
    "knn = KNeighborsClassifier(n_neighbors=3)\n",
    "knn_fit = knn.fit(x_train, y_train.values.ravel())\n",
    "\n",
    "y_pred_knn = knn.predict(x_test)\n",
    "print(classification_report(y_test, y_pred_knn))"
   ]
  },
  {
   "cell_type": "code",
   "execution_count": 191,
   "metadata": {},
   "outputs": [
    {
     "data": {
      "text/html": [
       "<div>\n",
       "<style scoped>\n",
       "    .dataframe tbody tr th:only-of-type {\n",
       "        vertical-align: middle;\n",
       "    }\n",
       "\n",
       "    .dataframe tbody tr th {\n",
       "        vertical-align: top;\n",
       "    }\n",
       "\n",
       "    .dataframe thead th {\n",
       "        text-align: right;\n",
       "    }\n",
       "</style>\n",
       "<table border=\"1\" class=\"dataframe\">\n",
       "  <thead>\n",
       "    <tr style=\"text-align: right;\">\n",
       "      <th></th>\n",
       "      <th>Predicted Not Flippable</th>\n",
       "      <th>Predicted Flippable</th>\n",
       "    </tr>\n",
       "  </thead>\n",
       "  <tbody>\n",
       "    <tr>\n",
       "      <th>True Not Flippable</th>\n",
       "      <td>33942</td>\n",
       "      <td>7536</td>\n",
       "    </tr>\n",
       "    <tr>\n",
       "      <th>True Flippable</th>\n",
       "      <td>714</td>\n",
       "      <td>1822</td>\n",
       "    </tr>\n",
       "  </tbody>\n",
       "</table>\n",
       "</div>"
      ],
      "text/plain": [
       "                    Predicted Not Flippable  Predicted Flippable\n",
       "True Not Flippable                    33942                 7536\n",
       "True Flippable                          714                 1822"
      ]
     },
     "execution_count": 191,
     "metadata": {},
     "output_type": "execute_result"
    }
   ],
   "source": [
    "pd.DataFrame(\n",
    "    confusion_matrix(y_test, y_pred_knn),\n",
    "    columns=['Predicted Not Flippable', 'Predicted Flippable'],\n",
    "    index=['True Not Flippable', 'True Flippable']\n",
    ")"
   ]
  },
  {
   "cell_type": "code",
   "execution_count": 92,
   "metadata": {},
   "outputs": [
    {
     "data": {
      "text/plain": [
       "Text(0, 0.5, 'Error')"
      ]
     },
     "execution_count": 92,
     "metadata": {},
     "output_type": "execute_result"
    },
    {
     "data": {
      "image/png": "[encoded data removed]",
      "text/plain": [
       "<Figure size 864x432 with 1 Axes>"
      ]
     },
     "metadata": {
      "needs_background": "light"
     },
     "output_type": "display_data"
    }
   ],
   "source": [
    "from sklearn.metrics import zero_one_loss\n",
    "\n",
    "error = []\n",
    "for i in range(1, 7):\n",
    "    knn = KNeighborsClassifier(n_neighbors=i)\n",
    "    knn.fit(x_train, y_train.values.ravel())\n",
    "    pred_i = knn.predict(x_test)\n",
    "    accuracy = zero_one_loss(y_test, pred_i)\n",
    "    error.append(1 - accuracy)\n",
    "    \n",
    "plt.figure(figsize=(12, 6))\n",
    "plt.plot(range(1, 7), error, color='pink', linestyle='dashed', marker='o',\n",
    "         markerfacecolor='teal', markersize=15)\n",
    "plt.title('KNN Error by Number of Neighbors')\n",
    "plt.xlabel('Number of Neighbors')\n",
    "plt.ylabel('Error')"
   ]
  },
  {
   "cell_type": "markdown",
   "metadata": {},
   "source": [
    "# Support Vector Machine"
   ]
  },
  {
   "cell_type": "code",
   "execution_count": null,
   "metadata": {},
   "outputs": [],
   "source": [
    "# Parameter tuning needs to be done not on a laptop, it takes forever. \n",
    "\n",
    "# I've commented out all the gridsearch code and will tune the models later\n",
    "# For this and ensemble methods I found this helpful: \n",
    "# https://www.datasklr.com/select-classification-methods/support-vector-machines\n",
    "\n",
    "# from sklearn.model_selection import GridSearchCV\n",
    "\n",
    "# for gridsearch I want to split our data a bit more:\n",
    "# df1, df2, df3 = np.split(df.sample(frac=1), [int(.33*len(df)), int(.7*len(df))])\n",
    "\n",
    "# print(df1.shape)\n",
    "# print(df2.shape)\n",
    "# print(df3.shape)\n",
    "\n",
    "# y_1 = df1[y_names]\n",
    "# x_1 = df1[x_names]\n",
    "# y_2 = df2[y_names]\n",
    "# x_2 = df2[x_names]\n",
    "# y_3 = df3[y_names]\n",
    "# x_3 = df3[x_names]\n",
    "\n",
    "# x_train_1, x_test_1, y_train_1, y_test_1 = train_test_split(x_1, y_1, test_size=0.33)\n",
    "# x_train_2, x_test_2, y_train_2, y_test_2 = train_test_split(x_2, y_2, test_size=0.33)\n",
    "# x_train_3, x_test_3, y_train_3, y_test_3 = train_test_split(x_3, y_3, test_size=0.33)"
   ]
  },
  {
   "cell_type": "code",
   "execution_count": 192,
   "metadata": {
    "scrolled": true
   },
   "outputs": [],
   "source": [
    "# from sklearn import svm\n",
    "# from sklearn.svm import SVC\n",
    "# from sklearn.svm import LinearSVC\n",
    "\n",
    "# svc = SVC()\n",
    "# svc.fit(x_train, y_train.values.ravel())\n",
    "# y_pred_svc = svc.predict(x_test)\n",
    "# print(classification_report(y_test, y_pred_svc, zero_division=1))"
   ]
  },
  {
   "cell_type": "code",
   "execution_count": null,
   "metadata": {},
   "outputs": [],
   "source": [
    "# pd.DataFrame(\n",
    "#     confusion_matrix(y_test, y_pred_svc),\n",
    "#     columns=['Predicted Not Flippable', 'Predicted Flippable'],\n",
    "#     index=['True Not Flippable', 'True Flippable']\n",
    "# )"
   ]
  },
  {
   "cell_type": "code",
   "execution_count": 14,
   "metadata": {},
   "outputs": [],
   "source": [
    "# estimator_SVM = SVC(gamma='scale')\n",
    "# parameters_SVM = {\n",
    "#     'C': (0.1, 15.0, 0.1),\n",
    "#     'kernel': ('linear', 'poly', 'rbf', 'sigmoid'),\n",
    "#     'coef0': (0.0, 10.0, 1.0),\n",
    "#     'shrinking': (True, False),\n",
    "# }\n",
    "\n",
    "# # with GridSearch\n",
    "# grid_search_SVM = GridSearchCV(\n",
    "#     estimator=estimator_SVM,\n",
    "#     param_grid=parameters_SVM,\n",
    "#     scoring = 'accuracy',\n",
    "#     n_jobs = -1,\n",
    "#     cv = 5\n",
    "# )\n",
    "\n",
    "# SVM_1 = grid_search_SVM.fit(x_train_1, y_train_1.values.ravel())\n",
    "# y_pred_SVM1 = SVM_1.predict(x_test_1)\n",
    "# SVM_2 = grid_search_SVM.fit(x_train_2, y_train_2.values.ravel())\n",
    "# y_pred_SVM2 = SVM_2.predict(x_test_2)\n",
    "# SVM_3 = grid_search_SVM.fit(x_train_3, y_train_3.values.ravel())\n",
    "# y_pred_SVM3 = SVM_3.predict(x_test_3)\n",
    "\n",
    "# print(grid_search_SVM.best_params_)\n",
    "\n",
    "# print('Accuracy Score - SVM - Default:', metrics.accuracy_score(y_test, y_pred_svc))  \n",
    "# print('Accuracy Score - SVM - Poly = 1:', metrics.accuracy_score(y_test_1, y_pred_SVM1)) \n",
    "# print('Accuracy Score - SVM - Poly = 2:', metrics.accuracy_score(y_test_2, y_pred_SVM2)) \n",
    "# print('Accuracy Score - SVM - Poly = 3:', metrics.accuracy_score(y_test_3, y_pred_SVM3)) "
   ]
  },
  {
   "cell_type": "markdown",
   "metadata": {},
   "source": [
    "# Ensemble (Bagging, Boosting, Random Forest)\n",
    "\n",
    "No parameter tuning on these either - this will check the vanilla models and later we can tune the ones that do well.\n",
    "\n",
    "## Random Forest"
   ]
  },
  {
   "cell_type": "code",
   "execution_count": 193,
   "metadata": {},
   "outputs": [
    {
     "name": "stdout",
     "output_type": "stream",
     "text": [
      "              precision    recall  f1-score   support\n",
      "\n",
      "       False       0.98      0.98      0.98     41478\n",
      "        True       0.64      0.70      0.67      2536\n",
      "\n",
      "    accuracy                           0.96     44014\n",
      "   macro avg       0.81      0.84      0.82     44014\n",
      "weighted avg       0.96      0.96      0.96     44014\n",
      "\n"
     ]
    }
   ],
   "source": [
    "from sklearn.ensemble import RandomForestClassifier\n",
    "\n",
    "rf = RandomForestClassifier(random_state=50, n_estimators=1400, min_samples_split=2, min_samples_leaf=1, max_features='auto', max_depth=40, bootstrap='False')\n",
    "rf_fit = rf.fit(x_train, y_train.values.ravel())\n",
    "y_pred_rf = rf.predict(x_test)\n",
    "print(classification_report(y_test, y_pred_rf, zero_division=1))"
   ]
  },
  {
   "cell_type": "code",
   "execution_count": 194,
   "metadata": {},
   "outputs": [
    {
     "data": {
      "text/html": [
       "<div>\n",
       "<style scoped>\n",
       "    .dataframe tbody tr th:only-of-type {\n",
       "        vertical-align: middle;\n",
       "    }\n",
       "\n",
       "    .dataframe tbody tr th {\n",
       "        vertical-align: top;\n",
       "    }\n",
       "\n",
       "    .dataframe thead th {\n",
       "        text-align: right;\n",
       "    }\n",
       "</style>\n",
       "<table border=\"1\" class=\"dataframe\">\n",
       "  <thead>\n",
       "    <tr style=\"text-align: right;\">\n",
       "      <th></th>\n",
       "      <th>Predicted Not Flippable</th>\n",
       "      <th>Predicted Flippable</th>\n",
       "    </tr>\n",
       "  </thead>\n",
       "  <tbody>\n",
       "    <tr>\n",
       "      <th>True Not Flippable</th>\n",
       "      <td>40477</td>\n",
       "      <td>1001</td>\n",
       "    </tr>\n",
       "    <tr>\n",
       "      <th>True Flippable</th>\n",
       "      <td>768</td>\n",
       "      <td>1768</td>\n",
       "    </tr>\n",
       "  </tbody>\n",
       "</table>\n",
       "</div>"
      ],
      "text/plain": [
       "                    Predicted Not Flippable  Predicted Flippable\n",
       "True Not Flippable                    40477                 1001\n",
       "True Flippable                          768                 1768"
      ]
     },
     "execution_count": 194,
     "metadata": {},
     "output_type": "execute_result"
    }
   ],
   "source": [
    "pd.DataFrame(\n",
    "    confusion_matrix(y_test, y_pred_rf),\n",
    "    columns=['Predicted Not Flippable', 'Predicted Flippable'],\n",
    "    index=['True Not Flippable', 'True Flippable']\n",
    ")"
   ]
  },
  {
   "cell_type": "code",
   "execution_count": 143,
   "metadata": {},
   "outputs": [
    {
     "name": "stdout",
     "output_type": "stream",
     "text": [
      "working...\n",
      "Fitting 3 folds for each of 100 candidates, totalling 300 fits\n"
     ]
    },
    {
     "name": "stderr",
     "output_type": "stream",
     "text": [
      "[Parallel(n_jobs=-1)]: Using backend LokyBackend with 12 concurrent workers.\n",
      "[Parallel(n_jobs=-1)]: Done  17 tasks      | elapsed: 12.3min\n",
      "[Parallel(n_jobs=-1)]: Done 138 tasks      | elapsed: 82.3min\n",
      "[Parallel(n_jobs=-1)]: Done 300 out of 300 | elapsed: 190.4min finished\n",
      "/opt/anaconda3/envs/mylabenv/lib/python3.8/site-packages/sklearn/model_selection/_search.py:765: DataConversionWarning: A column-vector y was passed when a 1d array was expected. Please change the shape of y to (n_samples,), for example using ravel().\n",
      "  self.best_estimator_.fit(X, y, **fit_params)\n"
     ]
    },
    {
     "name": "stdout",
     "output_type": "stream",
     "text": [
      "working...\n"
     ]
    }
   ],
   "source": [
    "# from sklearn.model_selection import RandomizedSearchCV\n",
    "\n",
    "# # Number of trees in random forest\n",
    "# n_estimators = [int(x) for x in np.linspace(start = 200, stop = 2000, num = 10)]\n",
    "# # Number of features to consider at every split\n",
    "# max_features = ['auto', 'sqrt']\n",
    "# # Maximum number of levels in tree\n",
    "# max_depth = [int(x) for x in np.linspace(10, 110, num = 11)]\n",
    "# max_depth.append(None)\n",
    "# # Minimum number of samples required to split a node\n",
    "# min_samples_split = [2, 5, 10]\n",
    "# # Minimum number of samples required at each leaf node\n",
    "# min_samples_leaf = [1, 2, 4]\n",
    "# # Method of selecting samples for training each tree\n",
    "# bootstrap = [True, False]\n",
    "# # Create the random grid\n",
    "# random_grid = {'n_estimators': n_estimators,\n",
    "#                'max_features': max_features,\n",
    "#                'max_depth': max_depth,\n",
    "#                'min_samples_split': min_samples_split,\n",
    "#                'min_samples_leaf': min_samples_leaf,\n",
    "#                'bootstrap': bootstrap}\n",
    "\n",
    "# rf_random = RandomizedSearchCV(estimator = rf, param_distributions = random_grid, n_iter = 100, cv = 3, verbose=2, random_state=42, n_jobs = -1)\n",
    "# print(\"working...\")\n",
    "# # Fit the random search model\n",
    "# rf_random.fit(x_train, y_train)\n",
    "# print(\"working...\")"
   ]
  },
  {
   "cell_type": "code",
   "execution_count": 144,
   "metadata": {},
   "outputs": [
    {
     "data": {
      "text/plain": [
       "{'n_estimators': 1400, 'min_samples_split': 2, 'min_samples_leaf': 1, 'max_features': 'auto', 'max_depth': 40, 'bootstrap': False}"
      ]
     },
     "execution_count": 144,
     "metadata": {},
     "output_type": "execute_result"
    }
   ],
   "source": [
    "# rf_random.best_params_"
   ]
  },
  {
   "cell_type": "code",
   "execution_count": 150,
   "metadata": {},
   "outputs": [
    {
     "data": {
      "text/plain": [
       "['rf_tuned.pkl']"
      ]
     },
     "execution_count": 150,
     "metadata": {},
     "output_type": "execute_result"
    }
   ],
   "source": [
    "joblib.dump(rf, 'rf_tuned.pkl')"
   ]
  },
  {
   "cell_type": "markdown",
   "metadata": {},
   "source": [
    "## Boosting"
   ]
  },
  {
   "cell_type": "code",
   "execution_count": 195,
   "metadata": {},
   "outputs": [
    {
     "name": "stdout",
     "output_type": "stream",
     "text": [
      "              precision    recall  f1-score   support\n",
      "\n",
      "       False       0.95      0.92      0.93     41478\n",
      "        True       0.13      0.20      0.16      2536\n",
      "\n",
      "    accuracy                           0.88     44014\n",
      "   macro avg       0.54      0.56      0.55     44014\n",
      "weighted avg       0.90      0.88      0.89     44014\n",
      "\n"
     ]
    }
   ],
   "source": [
    "from sklearn.ensemble import GradientBoostingClassifier\n",
    "\n",
    "GB = GradientBoostingClassifier()\n",
    "GB_fit = GB.fit(x_train, y_train.values.ravel())\n",
    "y_pred_GB = GB.predict(x_test)\n",
    "print(classification_report(y_test, y_pred_GB, zero_division=1))"
   ]
  },
  {
   "cell_type": "code",
   "execution_count": 196,
   "metadata": {},
   "outputs": [
    {
     "data": {
      "text/html": [
       "<div>\n",
       "<style scoped>\n",
       "    .dataframe tbody tr th:only-of-type {\n",
       "        vertical-align: middle;\n",
       "    }\n",
       "\n",
       "    .dataframe tbody tr th {\n",
       "        vertical-align: top;\n",
       "    }\n",
       "\n",
       "    .dataframe thead th {\n",
       "        text-align: right;\n",
       "    }\n",
       "</style>\n",
       "<table border=\"1\" class=\"dataframe\">\n",
       "  <thead>\n",
       "    <tr style=\"text-align: right;\">\n",
       "      <th></th>\n",
       "      <th>Predicted Not Flippable</th>\n",
       "      <th>Predicted Flippable</th>\n",
       "    </tr>\n",
       "  </thead>\n",
       "  <tbody>\n",
       "    <tr>\n",
       "      <th>True Not Flippable</th>\n",
       "      <td>38123</td>\n",
       "      <td>3355</td>\n",
       "    </tr>\n",
       "    <tr>\n",
       "      <th>True Flippable</th>\n",
       "      <td>2033</td>\n",
       "      <td>503</td>\n",
       "    </tr>\n",
       "  </tbody>\n",
       "</table>\n",
       "</div>"
      ],
      "text/plain": [
       "                    Predicted Not Flippable  Predicted Flippable\n",
       "True Not Flippable                    38123                 3355\n",
       "True Flippable                         2033                  503"
      ]
     },
     "execution_count": 196,
     "metadata": {},
     "output_type": "execute_result"
    }
   ],
   "source": [
    "pd.DataFrame(\n",
    "    confusion_matrix(y_test, y_pred_GB),\n",
    "    columns=['Predicted Not Flippable', 'Predicted Flippable'],\n",
    "    index=['True Not Flippable', 'True Flippable']\n",
    ")"
   ]
  },
  {
   "cell_type": "code",
   "execution_count": 197,
   "metadata": {},
   "outputs": [
    {
     "name": "stdout",
     "output_type": "stream",
     "text": [
      "              precision    recall  f1-score   support\n",
      "\n",
      "       False       0.95      0.82      0.88     41478\n",
      "        True       0.09      0.29      0.14      2536\n",
      "\n",
      "    accuracy                           0.79     44014\n",
      "   macro avg       0.52      0.55      0.51     44014\n",
      "weighted avg       0.90      0.79      0.84     44014\n",
      "\n"
     ]
    }
   ],
   "source": [
    "from sklearn.ensemble import AdaBoostClassifier\n",
    "\n",
    "ADB = AdaBoostClassifier()\n",
    "ADB_fit = ADB.fit(x_train, y_train.values.ravel())\n",
    "y_pred_ADB = ADB.predict(x_test)\n",
    "\n",
    "print(classification_report(y_test, y_pred_ADB, zero_division=1))"
   ]
  },
  {
   "cell_type": "code",
   "execution_count": 198,
   "metadata": {},
   "outputs": [
    {
     "data": {
      "text/html": [
       "<div>\n",
       "<style scoped>\n",
       "    .dataframe tbody tr th:only-of-type {\n",
       "        vertical-align: middle;\n",
       "    }\n",
       "\n",
       "    .dataframe tbody tr th {\n",
       "        vertical-align: top;\n",
       "    }\n",
       "\n",
       "    .dataframe thead th {\n",
       "        text-align: right;\n",
       "    }\n",
       "</style>\n",
       "<table border=\"1\" class=\"dataframe\">\n",
       "  <thead>\n",
       "    <tr style=\"text-align: right;\">\n",
       "      <th></th>\n",
       "      <th>Predicted Not Flippable</th>\n",
       "      <th>Predicted Flippable</th>\n",
       "    </tr>\n",
       "  </thead>\n",
       "  <tbody>\n",
       "    <tr>\n",
       "      <th>True Not Flippable</th>\n",
       "      <td>33868</td>\n",
       "      <td>7610</td>\n",
       "    </tr>\n",
       "    <tr>\n",
       "      <th>True Flippable</th>\n",
       "      <td>1798</td>\n",
       "      <td>738</td>\n",
       "    </tr>\n",
       "  </tbody>\n",
       "</table>\n",
       "</div>"
      ],
      "text/plain": [
       "                    Predicted Not Flippable  Predicted Flippable\n",
       "True Not Flippable                    33868                 7610\n",
       "True Flippable                         1798                  738"
      ]
     },
     "execution_count": 198,
     "metadata": {},
     "output_type": "execute_result"
    }
   ],
   "source": [
    "pd.DataFrame(\n",
    "    confusion_matrix(y_test, y_pred_ADB),\n",
    "    columns=['Predicted Not Flippable', 'Predicted Flippable'],\n",
    "    index=['True Not Flippable', 'True Flippable']\n",
    ")"
   ]
  },
  {
   "cell_type": "code",
   "execution_count": 199,
   "metadata": {},
   "outputs": [
    {
     "name": "stdout",
     "output_type": "stream",
     "text": [
      "              precision    recall  f1-score   support\n",
      "\n",
      "       False       0.95      0.93      0.94     41478\n",
      "        True       0.16      0.23      0.19      2536\n",
      "\n",
      "    accuracy                           0.89     44014\n",
      "   macro avg       0.55      0.58      0.56     44014\n",
      "weighted avg       0.91      0.89      0.89     44014\n",
      "\n"
     ]
    }
   ],
   "source": [
    "from xgboost import XGBClassifier\n",
    "\n",
    "XGB = XGBClassifier()\n",
    "XGB_fit = XGB.fit(x_train, y_train.values.ravel())\n",
    "y_pred_XGB = XGB.predict(x_test)\n",
    "print(classification_report(y_test, y_pred_XGB, zero_division=1))"
   ]
  },
  {
   "cell_type": "code",
   "execution_count": 200,
   "metadata": {},
   "outputs": [
    {
     "data": {
      "text/html": [
       "<div>\n",
       "<style scoped>\n",
       "    .dataframe tbody tr th:only-of-type {\n",
       "        vertical-align: middle;\n",
       "    }\n",
       "\n",
       "    .dataframe tbody tr th {\n",
       "        vertical-align: top;\n",
       "    }\n",
       "\n",
       "    .dataframe thead th {\n",
       "        text-align: right;\n",
       "    }\n",
       "</style>\n",
       "<table border=\"1\" class=\"dataframe\">\n",
       "  <thead>\n",
       "    <tr style=\"text-align: right;\">\n",
       "      <th></th>\n",
       "      <th>Predicted Not Flippable</th>\n",
       "      <th>Predicted Flippable</th>\n",
       "    </tr>\n",
       "  </thead>\n",
       "  <tbody>\n",
       "    <tr>\n",
       "      <th>True Not Flippable</th>\n",
       "      <td>38378</td>\n",
       "      <td>3100</td>\n",
       "    </tr>\n",
       "    <tr>\n",
       "      <th>True Flippable</th>\n",
       "      <td>1957</td>\n",
       "      <td>579</td>\n",
       "    </tr>\n",
       "  </tbody>\n",
       "</table>\n",
       "</div>"
      ],
      "text/plain": [
       "                    Predicted Not Flippable  Predicted Flippable\n",
       "True Not Flippable                    38378                 3100\n",
       "True Flippable                         1957                  579"
      ]
     },
     "execution_count": 200,
     "metadata": {},
     "output_type": "execute_result"
    }
   ],
   "source": [
    "pd.DataFrame(\n",
    "    confusion_matrix(y_test, y_pred_XGB),\n",
    "    columns=['Predicted Not Flippable', 'Predicted Flippable'],\n",
    "    index=['True Not Flippable', 'True Flippable']\n",
    ")"
   ]
  },
  {
   "cell_type": "markdown",
   "metadata": {},
   "source": [
    "## Bagging"
   ]
  },
  {
   "cell_type": "code",
   "execution_count": 201,
   "metadata": {},
   "outputs": [
    {
     "name": "stdout",
     "output_type": "stream",
     "text": [
      "              precision    recall  f1-score   support\n",
      "\n",
      "       False       0.98      0.97      0.97     41478\n",
      "        True       0.55      0.63      0.58      2536\n",
      "\n",
      "    accuracy                           0.95     44014\n",
      "   macro avg       0.76      0.80      0.78     44014\n",
      "weighted avg       0.95      0.95      0.95     44014\n",
      "\n"
     ]
    }
   ],
   "source": [
    "from sklearn.ensemble import BaggingClassifier\n",
    "\n",
    "bag = BaggingClassifier()\n",
    "bag_fit = bag.fit(x_train, y_train.values.ravel())\n",
    "y_pred_bag = bag.predict(x_test)\n",
    "print(classification_report(y_test, y_pred_bag, zero_division=1))"
   ]
  },
  {
   "cell_type": "code",
   "execution_count": 202,
   "metadata": {},
   "outputs": [
    {
     "data": {
      "text/html": [
       "<div>\n",
       "<style scoped>\n",
       "    .dataframe tbody tr th:only-of-type {\n",
       "        vertical-align: middle;\n",
       "    }\n",
       "\n",
       "    .dataframe tbody tr th {\n",
       "        vertical-align: top;\n",
       "    }\n",
       "\n",
       "    .dataframe thead th {\n",
       "        text-align: right;\n",
       "    }\n",
       "</style>\n",
       "<table border=\"1\" class=\"dataframe\">\n",
       "  <thead>\n",
       "    <tr style=\"text-align: right;\">\n",
       "      <th></th>\n",
       "      <th>Predicted Not Flippable</th>\n",
       "      <th>Predicted Flippable</th>\n",
       "    </tr>\n",
       "  </thead>\n",
       "  <tbody>\n",
       "    <tr>\n",
       "      <th>True Not Flippable</th>\n",
       "      <td>40168</td>\n",
       "      <td>1310</td>\n",
       "    </tr>\n",
       "    <tr>\n",
       "      <th>True Flippable</th>\n",
       "      <td>947</td>\n",
       "      <td>1589</td>\n",
       "    </tr>\n",
       "  </tbody>\n",
       "</table>\n",
       "</div>"
      ],
      "text/plain": [
       "                    Predicted Not Flippable  Predicted Flippable\n",
       "True Not Flippable                    40168                 1310\n",
       "True Flippable                          947                 1589"
      ]
     },
     "execution_count": 202,
     "metadata": {},
     "output_type": "execute_result"
    }
   ],
   "source": [
    "pd.DataFrame(\n",
    "    confusion_matrix(y_test, y_pred_bag),\n",
    "    columns=['Predicted Not Flippable', 'Predicted Flippable'],\n",
    "    index=['True Not Flippable', 'True Flippable']\n",
    ")"
   ]
  },
  {
   "cell_type": "code",
   "execution_count": null,
   "metadata": {},
   "outputs": [],
   "source": []
  },
  {
   "cell_type": "code",
   "execution_count": null,
   "metadata": {},
   "outputs": [],
   "source": []
  }
 ],
 "metadata": {
  "kernelspec": {
   "display_name": "Python 3",
   "language": "python",
   "name": "python3"
  },
  "language_info": {
   "codemirror_mode": {
    "name": "ipython",
    "version": 3
   },
   "file_extension": ".py",
   "mimetype": "text/x-python",
   "name": "python",
   "nbconvert_exporter": "python",
   "pygments_lexer": "ipython3",
   "version": "3.8.3"
  }
 },
 "nbformat": 4,
 "nbformat_minor": 4
}
