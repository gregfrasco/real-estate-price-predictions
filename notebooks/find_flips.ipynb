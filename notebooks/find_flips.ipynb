{
 "cells": [
  {
   "cell_type": "code",
   "execution_count": 1,
   "metadata": {},
   "outputs": [],
   "source": [
    "from utils import get_data\n",
    "import numpy\n",
    "import pandas as pd"
   ]
  },
  {
   "cell_type": "code",
   "execution_count": 2,
   "metadata": {},
   "outputs": [],
   "source": [
    "data = get_data('../data')"
   ]
  },
  {
   "cell_type": "code",
   "execution_count": 3,
   "metadata": {
    "scrolled": true
   },
   "outputs": [],
   "source": [
    "# Find home that have been sold\n",
    "# removing condos since they the units may have the same address, and trying to match on address.\n",
    "soldHomes = data[data['STATUS'] == 'SLD']\n",
    "soldHomes = soldHomes[soldHomes['PROPTYPE'] != 'CC']"
   ]
  },
  {
   "cell_type": "code",
   "execution_count": 4,
   "metadata": {},
   "outputs": [],
   "source": [
    "soldMLS = soldHomes['MLSNUM'].unique()"
   ]
  },
  {
   "cell_type": "code",
   "execution_count": 5,
   "metadata": {},
   "outputs": [],
   "source": [
    "# find home with same address\n",
    "def getHome(data, mls):\n",
    "    home = soldHomes[soldHomes['MLSNUM'] == mls]\n",
    "    homes = soldHomes[soldHomes['ZIP'] == home['ZIP'].iloc[0]]\n",
    "    homes = homes[homes['HOUSENUM1'] == home['HOUSENUM1'].iloc[0]]\n",
    "    homes = homes[homes['STREETNAME'] == home['STREETNAME'].iloc[0]]\n",
    "    return homes"
   ]
  },
  {
   "cell_type": "code",
   "execution_count": null,
   "metadata": {},
   "outputs": [],
   "source": [
    "# go through all mls listing to find matching homes.\n",
    "test_homes = []\n",
    "for mls in soldMLS:\n",
    "    homes = getHome(soldHomes, mls)\n",
    "    if(homes.shape[0] == 2):\n",
    "        test_homes.append(homes)"
   ]
  },
  {
   "cell_type": "code",
   "execution_count": null,
   "metadata": {},
   "outputs": [],
   "source": [
    "flippedHomes = pd.concat(test_homes)"
   ]
  },
  {
   "cell_type": "code",
   "execution_count": null,
   "metadata": {},
   "outputs": [],
   "source": [
    "# remove duplicates and sort by mls\n",
    "flippedHomes = flippedHomes.drop_duplicates(subset='MLSNUM', keep=\"first\")\n",
    "flippedHomes = flippedHomes.sort_values(by='MLSNUM')"
   ]
  },
  {
   "cell_type": "code",
   "execution_count": null,
   "metadata": {},
   "outputs": [],
   "source": [
    "# build flip set\n",
    "flips = [];\n",
    "for mls in flippedHomes['MLSNUM']:\n",
    "    homes = getHome(flippedHomes, mls)\n",
    "    # check if home has 2 mls rows\n",
    "    if(homes.shape[0] >= 2):\n",
    "        pre = homes.iloc[0]\n",
    "        post = homes.iloc[1]\n",
    "        # check if it's not the same mls number\n",
    "        if pre['MLSNUM'] == post['MLSNUM']:\n",
    "            continue\n",
    "        # find pre and post flip values\n",
    "        if pd.to_datetime(pre['SOLDDATE']) > pd.to_datetime(post['SOLDDATE']):\n",
    "            # post < pre: swap them\n",
    "            swap = pre\n",
    "            pre = post\n",
    "            post = swap\n",
    "        flips.append({\n",
    "            'PRE-FLIP-MLS': pre['MLSNUM'],\n",
    "            'POST-FLIP-MLS': post['MLSNUM'],\n",
    "            'PRE-FLIP-SOLD-DATE': pre['SOLDDATE'],\n",
    "            'POST-FLIP-SOLD-DATE': post['SOLDDATE'],\n",
    "            'PRE-SOLD-PRICE': pre['SOLDPRICE'],\n",
    "            'POST-SOLD-PRICE': post['SOLDPRICE'],\n",
    "            'PRE-SOLD-PRICE': pre['SOLDPRICE'],\n",
    "            'POST-SOLD-PRICE': post['SOLDPRICE'],\n",
    "            'PROFIT': int(post['SOLDPRICE']) - int(pre['SOLDPRICE'])\n",
    "        })"
   ]
  },
  {
   "cell_type": "code",
   "execution_count": null,
   "metadata": {
    "pycharm": {
     "name": "#%%\n"
    }
   },
   "outputs": [],
   "source": [
    "flips = pd.DataFrame.from_dict(flips)"
   ]
  },
  {
   "cell_type": "code",
   "execution_count": null,
   "metadata": {
    "pycharm": {
     "name": "#%%\n"
    }
   },
   "outputs": [],
   "source": [
    "flips.to_csv('./outputs/flips.csv')"
   ]
  },
  {
   "cell_type": "code",
   "execution_count": null,
   "metadata": {},
   "outputs": [],
   "source": [
    "flips.head()"
   ]
  }
 ],
 "metadata": {
  "kernelspec": {
   "display_name": "Python 3",
   "language": "python",
   "name": "python3"
  },
  "language_info": {
   "codemirror_mode": {
    "name": "ipython",
    "version": 3
   },
   "file_extension": ".py",
   "mimetype": "text/x-python",
   "name": "python",
   "nbconvert_exporter": "python",
   "pygments_lexer": "ipython3",
   "version": "3.7.7"
  }
 },
 "nbformat": 4,
 "nbformat_minor": 1
}